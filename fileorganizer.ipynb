{
 "cells": [
  {
   "cell_type": "markdown",
   "id": "cfe30577",
   "metadata": {},
   "source": [
    "<p>The first ever project in Python, made by Gino Ferretti</p>\n",
    "\n",
    "<h1>File organizer</h1>\n",
    "<h2>Step 1</h2>\n",
    "\n",
    "<p>Organize the files inside the folder named \"files\" in subfolders such as docs, audios, images. Create a recap file inside \"files\" folder.</p>"
   ]
  },
  {
   "cell_type": "code",
   "execution_count": 1,
   "id": "bcbb0bfc",
   "metadata": {},
   "outputs": [],
   "source": [
    "#in case tabulate is not installed, uncomment and run\n",
    "#conda install tabulate"
   ]
  },
  {
   "cell_type": "code",
   "execution_count": 2,
   "id": "50ee86f4",
   "metadata": {},
   "outputs": [],
   "source": [
    "#importing the necessary libraries\n",
    "\n",
    "import os\n",
    "#from os import walk\n",
    "#from os.path import join, getsize, abspath\n",
    "import shutil\n",
    "import csv\n",
    "\n",
    "import numpy as np\n",
    "import PIL\n",
    "from PIL import Image\n",
    "from tabulate import tabulate"
   ]
  },
  {
   "cell_type": "code",
   "execution_count": 3,
   "id": "0930a7db",
   "metadata": {},
   "outputs": [
    {
     "name": "stdout",
     "output_type": "stream",
     "text": [
      "dirpath: C:\\Users\\Xmoca\\files\n",
      "type: <class 'str'>\n",
      "\n",
      "dirnames: ['.ipynb_checkpoints']\n",
      "type: <class 'list'>\n",
      "\n",
      "filenames: ['bw.png', 'ciao.txt', 'daffodil.jpg', 'eclipse.png', 'pippo.odt', 'song1.mp3', 'song2.mp3', 'trump.jpeg']\n",
      "type: <class 'list'>\n",
      "\n"
     ]
    }
   ],
   "source": [
    "#getting the path, the folder names inside and the files inside the folder named 'files'\n",
    "\n",
    "dirpath, dirnames, filenames = next(os.walk(os.path.abspath('files')))\n",
    "#check what we have got\n",
    "\n",
    "print ('dirpath: {}\\ntype: {}\\n'.format(dirpath,type(dirpath)))\n",
    "print ('dirnames: {}\\ntype: {}\\n'.format(dirnames,type(dirnames)))\n",
    "print ('filenames: {}\\ntype: {}\\n'.format(filenames,type(filenames)))\n",
    "\n",
    "#in dirpath there is the path, saved as string\n",
    "#in dirnames the names of the folders inside 'files', as list\n",
    "#in filenames the names of the files inside 'files', as list"
   ]
  },
  {
   "cell_type": "code",
   "execution_count": 4,
   "id": "c030ffc1",
   "metadata": {},
   "outputs": [
    {
     "data": {
      "text/plain": [
       "['bw.png',\n",
       " 'ciao.txt',\n",
       " 'daffodil.jpg',\n",
       " 'eclipse.png',\n",
       " 'pippo.odt',\n",
       " 'song1.mp3',\n",
       " 'song2.mp3',\n",
       " 'trump.jpeg']"
      ]
     },
     "execution_count": 4,
     "metadata": {},
     "output_type": "execute_result"
    }
   ],
   "source": [
    "#sorting elements in filenames in alphabetic order\n",
    "filenames.sort()\n",
    "filenames"
   ]
  },
  {
   "cell_type": "code",
   "execution_count": 5,
   "id": "ca33a546",
   "metadata": {},
   "outputs": [
    {
     "data": {
      "text/plain": [
       "{'.jpeg': 'image',\n",
       " '.jpg': 'image',\n",
       " '.mp3': 'audio',\n",
       " '.png': 'image',\n",
       " '.txt': 'doc',\n",
       " '.odt': 'doc'}"
      ]
     },
     "execution_count": 5,
     "metadata": {},
     "output_type": "execute_result"
    }
   ],
   "source": [
    "#creating a dictionary to assign each 'file type' to the correspondent extension\n",
    "#It would have been more efficient to find this association automatically in the following loop,\n",
    "#also beacuse it could deal with extension outside this dictionary.\n",
    "#however I didn't figure out how to do that; so I created manually this dictionary.\n",
    "\n",
    "dictionary = {'.jpeg': 'image',\n",
    "              '.jpg': 'image',\n",
    "              '.mp3': 'audio',\n",
    "              '.png': 'image',\n",
    "              '.txt': 'doc',\n",
    "              '.odt': 'doc', }\n",
    "#quick check\n",
    "\n",
    "dictionary"
   ]
  },
  {
   "cell_type": "code",
   "execution_count": 6,
   "id": "5dd3dd1a",
   "metadata": {},
   "outputs": [],
   "source": [
    "#this function assign to 'newpath' the path of the folder in which the file should be moved\n",
    "#if this path does not exists (meaning that the folder does not exist), than it creates a new one with 'folder_name'\n",
    "\n",
    "def new_folder(dirpath, file_type):\n",
    "    \n",
    "    folder_name = file_type + 's'\n",
    "    newpath = os.path.join(dirpath, folder_name)\n",
    "    \n",
    "    if not os.path.isdir(newpath):        \n",
    "        os.makedirs(os.path.join(dirpath, folder_name))\n",
    "    \n",
    "    return newpath\n",
    "\n",
    "#this function creates a new csv file if this is not already present in the folder files.\n",
    "#if the csv is already present it just append the new row at the end of the file\n",
    "\n",
    "def createcsv(filecsv_name, file, file_type, size):\n",
    "\n",
    "    if os.path.exists(os.path.join(os.path.abspath('files'),filecsv_name)):\n",
    "        app_or_write = 'a' #append\n",
    "    else:\n",
    "        app_or_write = 'w' #write\n",
    " \n",
    "    print('app_or_write: ', app_or_write) #print to be sure that we are not creating a new file everytime\n",
    "\n",
    "    with open(os.path.join(os.path.abspath('files'),filecsv_name), app_or_write, newline='') as csvfile:\n",
    "        recap = csv.writer(csvfile)\n",
    "        \n",
    "        #writing headers only if we are creating the file\n",
    "        if app_or_write == 'w':\n",
    "            recap.writerow(['name', 'type', 'size(B)'])\n",
    "        #writing the data about the file moved    \n",
    "        recap.writerow([file, file_type, size])"
   ]
  },
  {
   "cell_type": "code",
   "execution_count": 7,
   "id": "3a4b0b3e",
   "metadata": {},
   "outputs": [
    {
     "name": "stdout",
     "output_type": "stream",
     "text": [
      "\n",
      "Name:  bw.png\n",
      "Size:  94926 B \n",
      "Type:  image\n",
      "app_or_write:  w\n",
      "\n",
      "Name:  ciao.txt\n",
      "Size:  12 B \n",
      "Type:  doc\n",
      "app_or_write:  a\n",
      "\n",
      "Name:  daffodil.jpg\n",
      "Size:  24657 B \n",
      "Type:  image\n",
      "app_or_write:  a\n",
      "\n",
      "Name:  eclipse.png\n",
      "Size:  64243 B \n",
      "Type:  image\n",
      "app_or_write:  a\n",
      "\n",
      "Name:  pippo.odt\n",
      "Size:  8299 B \n",
      "Type:  doc\n",
      "app_or_write:  a\n",
      "\n",
      "Name:  song1.mp3\n",
      "Size:  1087849 B \n",
      "Type:  audio\n",
      "app_or_write:  a\n",
      "\n",
      "Name:  song2.mp3\n",
      "Size:  764176 B \n",
      "Type:  audio\n",
      "app_or_write:  a\n",
      "\n",
      "Name:  trump.jpeg\n",
      "Size:  10195 B \n",
      "Type:  image\n",
      "app_or_write:  a\n"
     ]
    }
   ],
   "source": [
    "#loop every file in filenames, printing: -the name  -the size  -the type\n",
    "\n",
    "for file in filenames:\n",
    "    \n",
    "    #when find the 'recap file', that is a csv just pass to next iteration\n",
    "    if file.endswith('.csv'):\n",
    "        continue\n",
    "    \n",
    "    print('\\nName: ', file)\n",
    "    \n",
    "    size = os.path.getsize(os.path.join(dirpath, file))\n",
    "    print('Size:  {} B '.format(size))\n",
    "    \n",
    "    #checking in the dictionary the file type according to the extension\n",
    "    \n",
    "    for key, value in dictionary.items():\n",
    "        if file.endswith(key):\n",
    "            file_type = value\n",
    "            break #just go out from the for when find correspondance, no need to iterate more\n",
    "        \n",
    "    print('Type: ', file_type)\n",
    "    \n",
    "    #calling the function new_folder\n",
    "    newpath = new_folder(dirpath, file_type)\n",
    "    #moving the file in the corresponding folder\n",
    "    shutil.move(os.path.join(dirpath, file), os.path.join(newpath, file))\n",
    "        \n",
    "    #writing in a recap.csv file the information about the file, using the function createcsv    \n",
    "    filecsv_name = 'recap.csv'\n",
    "    createcsv(filecsv_name, file, file_type, size)"
   ]
  },
  {
   "cell_type": "markdown",
   "id": "cd1a632f",
   "metadata": {},
   "source": [
    "<h2>Step 3</h2>\n",
    "\n",
    "<p>Iterate all the images inside the folder \"images\" and return a table indicating: height, width, mean values of: grayscale, red, blue, green, alpha. Depending on the the image, if it is black and white, RGB or RGB 4.</p>"
   ]
  },
  {
   "cell_type": "code",
   "execution_count": 8,
   "id": "b03e03c5",
   "metadata": {},
   "outputs": [
    {
     "data": {
      "text/plain": [
       "'C:\\\\Users\\\\Xmoca\\\\files\\\\images'"
      ]
     },
     "execution_count": 8,
     "metadata": {},
     "output_type": "execute_result"
    }
   ],
   "source": [
    "#getting the path of the folder \"images\" (note that dirpath comes from step 1)\n",
    "\n",
    "imgpath = os.path.join(dirpath, 'images')\n",
    "imgpath"
   ]
  },
  {
   "cell_type": "code",
   "execution_count": 9,
   "id": "9d99ab08",
   "metadata": {},
   "outputs": [
    {
     "name": "stdout",
     "output_type": "stream",
     "text": [
      "imgpath: C:\\Users\\Xmoca\\files\\images\n",
      "type: <class 'str'>\n",
      "\n",
      "images: ['bw.png', 'daffodil.jpg', 'eclipse.png', 'trump.jpeg']\n",
      "type: <class 'list'>\n",
      "\n"
     ]
    }
   ],
   "source": [
    "#execute all the code only if the folder \"images\" exists, if not say that doesn't exists and not execute the code\n",
    "\n",
    "if os.path.isdir(imgpath):\n",
    "    #in this case we get only a list of the images inside the folder\n",
    "    __, __, images = next(os.walk(imgpath))\n",
    "    print ('imgpath: {}\\ntype: {}\\n'.format(imgpath,type(imgpath)))\n",
    "    print ('images: {}\\ntype: {}\\n'.format(images,type(images)))\n",
    "else:\n",
    "    print('There is not a folder called \"images\"')"
   ]
  },
  {
   "cell_type": "code",
   "execution_count": 10,
   "id": "b0d8047f",
   "metadata": {},
   "outputs": [
    {
     "name": "stdout",
     "output_type": "stream",
     "text": [
      "bw.png\n",
      "shape:  (512, 512)\n",
      "ndim:  2\n",
      "size:  262144\n",
      "grayscale:  21.48\n",
      "\n",
      "\n",
      "daffodil.jpg\n",
      "shape:  (500, 335, 3)\n",
      "ndim:  3\n",
      "size:  502500\n",
      "red:  109.25\n",
      "green:  85.56\n",
      "blue:  4.97\n",
      "\n",
      "\n",
      "eclipse.png\n",
      "shape:  (256, 256, 4)\n",
      "ndim:  3\n",
      "size:  262144\n",
      "red:  109.05\n",
      "green:  109.52\n",
      "blue:  39.85\n",
      "ALPHA:  133.59\n",
      "\n",
      "\n",
      "trump.jpeg\n",
      "shape:  (183, 275, 3)\n",
      "ndim:  3\n",
      "size:  150975\n",
      "red:  97.01\n",
      "green:  98.99\n",
      "blue:  90.92\n",
      "\n",
      "\n",
      "╒══════════════╤══════════╤═════════╤═════════════╤════════╤════════╤═══════╤═════════╕\n",
      "│ name         │   height │   width │   grayscale │      R │      G │     B │   ALPHA │\n",
      "╞══════════════╪══════════╪═════════╪═════════════╪════════╪════════╪═══════╪═════════╡\n",
      "│ bw.png       │      512 │     512 │       21.48 │   0    │   0    │  0    │    0    │\n",
      "├──────────────┼──────────┼─────────┼─────────────┼────────┼────────┼───────┼─────────┤\n",
      "│ daffodil.jpg │      500 │     335 │        0    │ 109.25 │  85.56 │  4.97 │    0    │\n",
      "├──────────────┼──────────┼─────────┼─────────────┼────────┼────────┼───────┼─────────┤\n",
      "│ eclipse.png  │      256 │     256 │        0    │ 109.05 │ 109.52 │ 39.85 │  133.59 │\n",
      "├──────────────┼──────────┼─────────┼─────────────┼────────┼────────┼───────┼─────────┤\n",
      "│ trump.jpeg   │      183 │     275 │        0    │  97.01 │  98.99 │ 90.92 │    0    │\n",
      "╘══════════════╧══════════╧═════════╧═════════════╧════════╧════════╧═══════╧═════════╛\n"
     ]
    }
   ],
   "source": [
    "#execute all the code only if the folder \"images\" exists, if not say that doesn't exists and not execute the code\n",
    "if os.path.isdir(imgpath):\n",
    "    \n",
    "    #table inizialization (list of lists, necessary later)\n",
    "    table = [['name', 'height', 'width', 'grayscale', 'R', 'G', 'B', 'ALPHA']]\n",
    "        \n",
    "    for image in images:\n",
    "        \n",
    "        if not images:\n",
    "            print('There are no images in the folder \"images\"')\n",
    "            break #just go out from the for, when there are no images inside the folder \"images\"\n",
    "\n",
    "        print(image)\n",
    "        #open the image with Image from PIL and assign to img\n",
    "        img = Image.open(os.path.join(imgpath, image))\n",
    "        #transform img in an array called np_img (numpy method np.array())\n",
    "        np_img = np.array(img)\n",
    "        \n",
    "        #print the features\n",
    "        print('shape: ', np_img.shape)\n",
    "        print('ndim: ', np_img.ndim)\n",
    "        print('size: ', np_img.size)\n",
    "\n",
    "        #all the images will have height and width --> we can get from .shape\n",
    "        height = np_img.shape[0]\n",
    "        width = np_img.shape[1]\n",
    "        \n",
    "        #if the image is in black&white will have ndim == 2, so we get the mean of the only color level (grayscale)\n",
    "        if np_img.ndim == 2:\n",
    "            grayscale = '{:.2f}'.format(np_img[:, :].mean())\n",
    "            print('grayscale: ', grayscale)\n",
    "            R = 0\n",
    "            G = 0\n",
    "            B = 0\n",
    "            ALPHA = 0\n",
    "            \n",
    "        #otherwise will have ndim == 3, so we get the mean of the other levels of color (RGB)\n",
    "        else:\n",
    "            grayscale = 0\n",
    "            R = '{:.2f}'.format(np_img[:, :, 0].mean())\n",
    "            G = '{:.2f}'.format(np_img[:, :, 1].mean())\n",
    "            B = '{:.2f}'.format(np_img[:, :, 2].mean())\n",
    "            ALPHA = 0\n",
    "            print('red: ', R)\n",
    "            print('green: ', G)\n",
    "            print('blue: ', B)\n",
    "        \n",
    "        #in case the image is RGB 4 there is another color level: ALPHA\n",
    "        #just see if asking the fourth level doesn't return error, it means that there is the alpha level, so we get it\n",
    "        #if return error just pass over\n",
    "        #note that we are still inside the \"else\"\n",
    "            try:\n",
    "                ALPHA = '{:.2f}'.format(np_img[:, :, 3].mean())\n",
    "                print('ALPHA: ', ALPHA)\n",
    "            except:\n",
    "                pass\n",
    "\n",
    "        print('\\n')\n",
    "        \n",
    "        #append to the table the featurs of the analyzed image\n",
    "        table.append([image, height, width, grayscale, R, G, B, ALPHA])\n",
    "\n",
    "    #print(table) #just to check\n",
    "    print(tabulate(table, headers='firstrow', tablefmt='fancy_grid'))   #print a \"fancy\" table with tabulate\n",
    "    \n",
    "else:\n",
    "    print('There is not a folder called \"images\"')\n"
   ]
  },
  {
   "cell_type": "code",
   "execution_count": null,
   "id": "5c5c9942",
   "metadata": {},
   "outputs": [],
   "source": []
  }
 ],
 "metadata": {
  "kernelspec": {
   "display_name": "Python 3 (ipykernel)",
   "language": "python",
   "name": "python3"
  },
  "language_info": {
   "codemirror_mode": {
    "name": "ipython",
    "version": 3
   },
   "file_extension": ".py",
   "mimetype": "text/x-python",
   "name": "python",
   "nbconvert_exporter": "python",
   "pygments_lexer": "ipython3",
   "version": "3.9.7"
  }
 },
 "nbformat": 4,
 "nbformat_minor": 5
}
